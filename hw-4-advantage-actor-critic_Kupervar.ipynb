{
 "cells": [
  {
   "cell_type": "markdown",
   "metadata": {},
   "source": [
    "# Implementing Advantage-Actor Critic (A2C) - 2 pts"
   ]
  },
  {
   "cell_type": "markdown",
   "metadata": {},
   "source": [
    "In this notebook you will implement Advantage Actor Critic algorithm that trains on a batch of Atari 2600 environments running in parallel. \n",
    "\n",
    "Firstly, we will use environment wrappers implemented in file `atari_wrappers.py`. These wrappers preprocess observations (resize, grayscal, take max between frames, skip frames, stack them together, prepares for PyTorch and normalizes to [0, 1]) and rewards. Some of the wrappers help to reset the environment and pass `done` flag equal to `True` when agent dies.\n",
    "File `env_batch.py` includes implementation of `ParallelEnvBatch` class that allows to run multiple environments in parallel. To create an environment we can use `nature_dqn_env` function."
   ]
  },
  {
   "cell_type": "code",
   "execution_count": 72,
   "metadata": {},
   "outputs": [],
   "source": [
    "import numpy as np\n",
    "from atari_wrappers import nature_dqn_env\n",
    "\n",
    "nenvs = 6    # change this if you have more than 8 CPU ;)\n",
    "\n",
    "env = nature_dqn_env(\"SpaceInvadersNoFrameskip-v4\", nenvs=nenvs)\n",
    "\n",
    "n_actions = env.action_space.spaces[0].n\n",
    "obs = env.reset()\n",
    "assert obs.shape == (nenvs, 4, 84, 84)\n",
    "assert obs.dtype == np.float32"
   ]
  },
  {
   "cell_type": "markdown",
   "metadata": {},
   "source": [
    "Next, we will need to implement a model that predicts logits of policy distribution and critic value. Use shared backbone. You may use same architecture as in DQN task with one modification: instead of having a single output layer, it must have two output layers taking as input the output of the last hidden layer (one for actor, one for critic). \n",
    "\n",
    "Still it may be very helpful to make more changes:\n",
    "* use orthogonal initialization with gain $\\sqrt{2}$ and initialize biases with zeros;\n",
    "* use more filters (e.g. 32-64-64 instead of 16-32-64);\n",
    "* use two-layer heads for actor and critic or add a linear layer into backbone;\n",
    "\n",
    "**Danger:** do not divide on 255, input is already normalized to [0, 1] in our wrappers!"
   ]
  },
  {
   "cell_type": "code",
   "execution_count": 73,
   "metadata": {},
   "outputs": [],
   "source": [
    "import torch\n",
    "import torch.nn as nn\n",
    "\n",
    "def conv2d_size_out(size, kernel_size, stride):\n",
    "    \"\"\"\n",
    "    common use case:\n",
    "    cur_layer_img_w = conv2d_size_out(cur_layer_img_w, kernel_size, stride)\n",
    "    cur_layer_img_h = conv2d_size_out(cur_layer_img_h, kernel_size, stride)\n",
    "    to understand the shape for dense layer's input\n",
    "    \"\"\"\n",
    "    return (size - (kernel_size - 1) - 1) // stride  + 1\n",
    "\n",
    "\n",
    "class Flatten(nn.Module):\n",
    "    def __init__(self):\n",
    "        super().__init__()\n",
    "        \n",
    "    def forward(self, x):\n",
    "        return x.view(x.size(0), -1)"
   ]
  },
  {
   "cell_type": "code",
   "execution_count": 74,
   "metadata": {},
   "outputs": [],
   "source": [
    "\n",
    "\n",
    "import warnings\n",
    "warnings.filterwarnings('ignore')\n",
    "\n",
    "class Agent(nn.Module):\n",
    "    '''\n",
    "    input:\n",
    "        states - tensor, (batch_size x channels x width x height)\n",
    "    output:\n",
    "        logits - tensor, logits of action probabilities for your actor policy, (batch_size x num_actions)\n",
    "        V - tensor, critic estimation, (batch_size)\n",
    "    '''\n",
    "    \n",
    "    def __init__(self, state_shape, n_actions):\n",
    "\n",
    "        super().__init__()\n",
    "        self.n_actions = n_actions\n",
    "        self.state_shape = state_shape\n",
    "        \n",
    "        stride = 2\n",
    "        kernel_size = 3\n",
    "        conv_sizes = [32, 64, 64]\n",
    "        \n",
    "        s = state_shape[-1]\n",
    "        for _ in conv_sizes:\n",
    "            dense_size = conv2d_size_out(s, kernel_size, stride)\n",
    "            s = dense_size\n",
    "        dense_size =dense_size**2 * conv_sizes[-1]\n",
    "\n",
    "        # Define your network body here. Please make sure agent is fully contained here\n",
    "        self.cnn_part = torch.nn.Sequential(\n",
    "            torch.nn.Conv2d(in_channels=state_shape[1], out_channels=conv_sizes[0], kernel_size= kernel_size, stride=stride),\n",
    "            torch.nn.ReLU(),\n",
    "\n",
    "            torch.nn.Conv2d(in_channels=conv_sizes[0], out_channels=conv_sizes[1], kernel_size= kernel_size, stride=stride),\n",
    "            torch.nn.ReLU(),\n",
    "            \n",
    "            torch.nn.Conv2d(in_channels=conv_sizes[1], out_channels=conv_sizes[2], kernel_size= kernel_size, stride=stride),\n",
    "            torch.nn.ReLU(),\n",
    "            \n",
    "            torch.nn.Flatten()\n",
    ",\n",
    "        )\n",
    "        \n",
    "        for i in range(len(conv_sizes)):\n",
    "            nn.init.xavier_uniform_(self.cnn_part[i*2].weight, gain=nn.init.calculate_gain('relu'))\n",
    "            self.cnn_part[i*2].bias.data.fill_(0)\n",
    "        \n",
    "        self.actor =  torch.nn.Sequential(       \n",
    "            \n",
    "            torch.nn.Linear(dense_size, int(dense_size / 2)),\n",
    "            torch.nn.ReLU(),\n",
    "            \n",
    "            torch.nn.Linear(int(dense_size / 2), n_actions),\n",
    "            torch.nn.ReLU()\n",
    "        \n",
    "        )\n",
    "        \n",
    "        self.critic =  torch.nn.Sequential(          \n",
    "            \n",
    "            torch.nn.Linear(dense_size, int(dense_size / 2)),\n",
    "            torch.nn.ReLU(),\n",
    "            \n",
    "            torch.nn.Linear(int(dense_size / 2), 1),\n",
    "            torch.nn.ReLU()\n",
    "        \n",
    "        )\n",
    "\n",
    "\n",
    "    def forward(self, state):\n",
    "\n",
    "        after_cnn = self.cnn_part(state)\n",
    "        \n",
    "        logits = self.actor(after_cnn)\n",
    "        \n",
    "        Vs = torch.squeeze(self.critic(after_cnn))\n",
    "\n",
    "        return logits, Vs\n",
    "\n"
   ]
  },
  {
   "cell_type": "code",
   "execution_count": 75,
   "metadata": {},
   "outputs": [],
   "source": [
    "n_actions = env.action_space.spaces[0].n\n",
    "state_shape = obs.shape\n",
    "\n",
    "agent = Agent(state_shape, n_actions)"
   ]
  },
  {
   "cell_type": "code",
   "execution_count": 76,
   "metadata": {},
   "outputs": [
    {
     "name": "stdout",
     "output_type": "stream",
     "text": [
      "torch.Size([6, 6])\n",
      "torch.Size([6])\n"
     ]
    }
   ],
   "source": [
    "logits, Vs = agent(torch.tensor(obs))\n",
    "print(logits.shape)\n",
    "print(Vs.shape)"
   ]
  },
  {
   "cell_type": "markdown",
   "metadata": {},
   "source": [
    "You will also need to define and use a policy that wraps the model. While the model computes logits for all actions, the policy will sample actions and also compute their log probabilities.  `policy.act` should return a **dictionary** of all the arrays that are needed to interact with an environment and train the model.\n",
    "\n",
    "**Important**: \"actions\" will be sent to environment, they must be numpy array or list, not PyTorch tensor.\n",
    "\n",
    "Note: you can add more keys, e.g. it can be convenient to compute entropy right here."
   ]
  },
  {
   "cell_type": "code",
   "execution_count": 81,
   "metadata": {},
   "outputs": [],
   "source": [
    "from torch.distributions import Categorical\n",
    "\n",
    "class Policy:\n",
    "    def __init__(self, model):\n",
    "        self.model = model\n",
    "\n",
    "    def act(self, inputs):\n",
    "        '''\n",
    "        input:\n",
    "            inputs - numpy array, (batch_size x channels x width x height)\n",
    "        output: dict containing keys ['actions', 'logits', 'log_probs', 'values']:\n",
    "            'actions' - selected actions, numpy, (batch_size)\n",
    "            'logits' - actions logits, tensor, (batch_size x num_actions)\n",
    "            'log_probs' - log probs of selected actions, tensor, (batch_size)\n",
    "            'values' - critic estimations, tensor, (batch_size)\n",
    "        '''\n",
    "        input_torch = torch.tensor(inputs, dtype=torch.float32)\n",
    "        logits, Vs = self.model(input_torch)\n",
    "        \n",
    "        available_actions = list(range(logits.shape[-1]))\n",
    "        \n",
    "        probs = nn.functional.softmax(logits, -1)\n",
    "        probs = np.array(probs.detach())\n",
    "        \n",
    "        actions = []\n",
    "        for row_prob in probs:\n",
    "            action = np.random.choice(available_actions,p=row_prob)\n",
    "            actions.append(action)\n",
    "        \n",
    "        log_probs = nn.functional.log_softmax(logits, -1)\n",
    "        log_probs_actions = torch.sum(log_probs * nn.functional.one_hot(torch.tensor(actions,dtype=torch.int64), \n",
    "                                                                        len(available_actions)), dim=1)\n",
    "        \n",
    "        entropy = -(log_probs.detach() * probs).sum(1)\n",
    "        \n",
    "        return {\n",
    "            \"actions\": np.array(actions),\n",
    "            \"logits\": logits,\n",
    "            \"log_probs\": log_probs_actions,\n",
    "            \"values\": Vs,\n",
    "            'entropy': entropy\n",
    "        }"
   ]
  },
  {
   "cell_type": "markdown",
   "metadata": {},
   "source": [
    "Next we will pass the environment and policy to a runner that collects rollouts from the environment. \n",
    "The class is already implemented for you."
   ]
  },
  {
   "cell_type": "code",
   "execution_count": 82,
   "metadata": {},
   "outputs": [],
   "source": [
    "from runners import EnvRunner"
   ]
  },
  {
   "cell_type": "markdown",
   "metadata": {},
   "source": [
    "This runner interacts with the environment for a given number of steps and returns a dictionary containing\n",
    "keys \n",
    "\n",
    "* 'observations' \n",
    "* 'rewards' \n",
    "* 'dones'\n",
    "* 'actions'\n",
    "* all other keys that you defined in `Policy`\n",
    "\n",
    "under each of these keys there is a python `list` of interactions with the environment of specified length $T$ &mdash; the size of partial trajectory, or rollout length. Let's have a look at how it works."
   ]
  },
  {
   "cell_type": "code",
   "execution_count": 83,
   "metadata": {},
   "outputs": [],
   "source": [
    "model = Agent(state_shape, n_actions)\n",
    "policy = Policy(model)\n",
    "runner = EnvRunner(env, policy, nsteps=5)"
   ]
  },
  {
   "cell_type": "code",
   "execution_count": 84,
   "metadata": {},
   "outputs": [],
   "source": [
    "# generates new rollout\n",
    "trajectory = runner.get_next()"
   ]
  },
  {
   "cell_type": "code",
   "execution_count": 85,
   "metadata": {},
   "outputs": [
    {
     "name": "stdout",
     "output_type": "stream",
     "text": [
      "dict_keys(['actions', 'logits', 'log_probs', 'values', 'entropy', 'observations', 'rewards', 'dones'])\n"
     ]
    }
   ],
   "source": [
    "# what is inside\n",
    "print(trajectory.keys())"
   ]
  },
  {
   "cell_type": "code",
   "execution_count": 86,
   "metadata": {},
   "outputs": [],
   "source": [
    "# Sanity checks\n",
    "assert 'logits' in trajectory, \"Not found: policy didn't provide logits\"\n",
    "assert 'log_probs' in trajectory, \"Not found: policy didn't provide log_probs of selected actions\"\n",
    "assert 'values' in trajectory, \"Not found: policy didn't provide critic estimations\"\n",
    "assert trajectory['logits'][0].shape == (nenvs, n_actions), \"logits wrong shape\"\n",
    "assert trajectory['log_probs'][0].shape == (nenvs,), \"log_probs wrong shape\"\n",
    "assert trajectory['values'][0].shape == (nenvs,), \"values wrong shape\"\n",
    "\n",
    "for key in trajectory.keys():\n",
    "    assert len(trajectory[key]) == 5, \\\n",
    "    f\"something went wrong: 5 steps should have been done, got trajectory of length {len(trajectory[key])} for '{key}'\""
   ]
  },
  {
   "cell_type": "markdown",
   "metadata": {},
   "source": [
    "Now let's work with this trajectory a bit. To train the critic you will need to compute the value targets. It will also be used as an estimation of $Q$ for actor training.\n",
    "\n",
    "You should use all available rewards for value targets, so the formula for the value targets is simple:\n",
    "\n",
    "$$\n",
    "\\hat v(s_t) = \\sum_{t'=0}^{T - 1}\\gamma^{t'}r_{t+t'} + \\gamma^T \\hat{v}(s_{t+T}),\n",
    "$$\n",
    "\n",
    "where $s_{t + T}$ is the latest observation of the environment.\n",
    "\n",
    "Any callable could be passed to `EnvRunner` to be applied to each partial trajectory after it is collected. \n",
    "Thus, we can implement and use `ComputeValueTargets` callable. \n",
    "\n",
    "**Do not forget** to use `trajectory['dones']` flags to check if you need to add the value targets at the next step when \n",
    "computing value targets for the current step.\n",
    "\n",
    "**Bonus (+0.5 pts):** implement [Generalized Advantage Estimation (GAE)](https://arxiv.org/pdf/1506.02438.pdf) instead; use $\\lambda \\approx 0.95$ or even closer to 1 in experiment. "
   ]
  },
  {
   "cell_type": "code",
   "execution_count": 87,
   "metadata": {},
   "outputs": [],
   "source": [
    "class ComputeValueTargets:\n",
    "    def __init__(self, policy, gamma=0.99):\n",
    "        self.policy = policy\n",
    "        self.gamma = gamma\n",
    "\n",
    "    def __call__(self, trajectory, latest_observation):\n",
    "        '''\n",
    "        This method should modify trajectory inplace by adding \n",
    "        an item with key 'value_targets' to it\n",
    "        \n",
    "        input:\n",
    "            trajectory - dict from runner\n",
    "            latest_observation - last state, numpy, (num_envs x channels x width x height)\n",
    "        '''\n",
    "        V_T = self.policy.act(torch.tensor(latest_observation,dtype=torch.float32))['values'] #last v_values\n",
    "        dones = torch.tensor(trajectory['dones'],dtype=torch.bool)\n",
    "        \n",
    "        T = len(dones)\n",
    "        value_tragets = [[None] * latest_observation.shape[0]] * T\n",
    "        \n",
    "        \n",
    "        gammas = torch.tensor([self.gamma ** i for i in range(T)],dtype=torch.float64)\n",
    "\n",
    "        with torch.no_grad():\n",
    "            #for i in range(T):\n",
    "                #rem = T - i\n",
    "                #future_reward = gammas[:rem] @ torch.tensor((trajectory['rewards'][i:]))\n",
    "                #value_tragets[i] = (future_reward + (self.gamma ** T) * V_T) * ~dones[i] + \\\n",
    "                                    #torch.tensor(trajectory['rewards'][i]) * dones[i] \n",
    "            steps = len(trajectory['actions'])\n",
    "            tmp = policy.act(latest_observation)\n",
    "            next_value = tmp['values'].detach().numpy()      \n",
    "            rewards = trajectory['rewards']\n",
    "            dones = trajectory['dones']\n",
    "            returns = np.vstack([rewards,next_value])\n",
    "            for env in range(latest_observation.shape[0]):\n",
    "                for st in reversed(range(steps )):\n",
    "                    returns[st][env] = rewards[st][env] + self.gamma * returns[st + 1][env] * (1 - dones[st][env])\n",
    "\n",
    "            trajectory['value_targets'] = torch.tensor(returns[:-1])\n",
    "            #trajectory['value_targets'] = value_tragets"
   ]
  },
  {
   "cell_type": "code",
   "execution_count": 88,
   "metadata": {},
   "outputs": [
    {
     "name": "stdout",
     "output_type": "stream",
     "text": [
      "dict_keys(['actions', 'logits', 'log_probs', 'values', 'entropy', 'observations', 'rewards', 'dones'])\n"
     ]
    }
   ],
   "source": [
    "print(trajectory.keys())"
   ]
  },
  {
   "cell_type": "markdown",
   "metadata": {},
   "source": [
    "After computing value targets we will transform lists of interactions into tensors\n",
    "with the first dimension `batch_size` which is equal to `T * nenvs`.\n",
    "\n",
    "You need to make sure that after this transformation `\"log_probs\"`, `\"value_targets\"`, `\"values\"` are 1-dimensional PyTorch tensors."
   ]
  },
  {
   "cell_type": "code",
   "execution_count": 89,
   "metadata": {},
   "outputs": [],
   "source": [
    "class MergeTimeBatch:\n",
    "    \"\"\" Merges first two axes typically representing time and env batch. \"\"\"\n",
    "    def __call__(self, trajectory, latest_observation):\n",
    "        # Modify trajectory inplace.\n",
    "        keys_to_modify = ['logits', 'log_probs', 'values', 'entropy']\n",
    "        for k in keys_to_modify:\n",
    "            shapes = torch.stack(trajectory[k]).shape\n",
    "            first_dim = shapes[0] * shapes[1]\n",
    "            trajectory[k] = torch.stack(trajectory[k]).reshape(first_dim, -1).squeeze()\n",
    "        trajectory['value_targets'] = trajectory['value_targets'].reshape(first_dim, -1).squeeze()"
   ]
  },
  {
   "cell_type": "markdown",
   "metadata": {},
   "source": [
    "Let's do more sanity checks!"
   ]
  },
  {
   "cell_type": "code",
   "execution_count": 90,
   "metadata": {},
   "outputs": [],
   "source": [
    "runner = EnvRunner(env, policy, nsteps=5, transforms=[ComputeValueTargets(policy),\n",
    "                                                      MergeTimeBatch()])\n",
    "\n",
    "trajectory = runner.get_next()"
   ]
  },
  {
   "cell_type": "code",
   "execution_count": 91,
   "metadata": {},
   "outputs": [],
   "source": [
    "# More sanity checks\n",
    "assert 'value_targets' in trajectory, \"Value targets not found\"\n",
    "assert trajectory['log_probs'].shape == (5 * nenvs,)\n",
    "assert trajectory['value_targets'].shape == (5 * nenvs,)\n",
    "assert trajectory['values'].shape == (5 * nenvs,)\n",
    "\n",
    "assert trajectory['log_probs'].requires_grad, \"Gradients are not available for actor head!\"\n",
    "assert trajectory['values'].requires_grad, \"Gradients are not available for critic head!\""
   ]
  },
  {
   "cell_type": "markdown",
   "metadata": {},
   "source": [
    "Now is the time to implement the advantage actor critic algorithm itself. You can look into [Mnih et al. 2016](https://arxiv.org/abs/1602.01783) paper, and lectures ([part 1](https://www.youtube.com/watch?v=Ds1trXd6pos&list=PLkFD6_40KJIwhWJpGazJ9VSj9CFMkb79A&index=5), [part 2](https://www.youtube.com/watch?v=EKqxumCuAAY&list=PLkFD6_40KJIwhWJpGazJ9VSj9CFMkb79A&index=6)) by Sergey Levine."
   ]
  },
  {
   "cell_type": "code",
   "execution_count": 92,
   "metadata": {},
   "outputs": [
    {
     "data": {
      "text/plain": [
       "torch.Size([30])"
      ]
     },
     "execution_count": 92,
     "metadata": {},
     "output_type": "execute_result"
    }
   ],
   "source": [
    "trajectory['values'].shape"
   ]
  },
  {
   "cell_type": "code",
   "execution_count": 93,
   "metadata": {},
   "outputs": [
    {
     "data": {
      "text/plain": [
       "torch.Size([30])"
      ]
     },
     "execution_count": 93,
     "metadata": {},
     "output_type": "execute_result"
    }
   ],
   "source": [
    "trajectory['value_targets'].shape"
   ]
  },
  {
   "cell_type": "code",
   "execution_count": 94,
   "metadata": {},
   "outputs": [
    {
     "data": {
      "text/plain": [
       "torch.Size([30])"
      ]
     },
     "execution_count": 94,
     "metadata": {},
     "output_type": "execute_result"
    }
   ],
   "source": [
    "trajectory['entropy'].shape"
   ]
  },
  {
   "cell_type": "code",
   "execution_count": 95,
   "metadata": {},
   "outputs": [],
   "source": [
    "from collections import defaultdict\n",
    "from torch.nn.utils import clip_grad_norm_\n",
    "\n",
    "class A2C:\n",
    "    def __init__(self, policy, optimizer, value_loss_coef=0.25, entropy_coef=0.01, max_grad_norm=0.5):\n",
    "        self.policy = policy\n",
    "        self.optimizer = optimizer\n",
    "        self.value_loss_coef = value_loss_coef\n",
    "        self.entropy_coef = entropy_coef\n",
    "        self.max_grad_norm = max_grad_norm\n",
    "    \n",
    "    def loss(self, trajectory, write):\n",
    "        # compute all losses\n",
    "        # do not forget to use weights for critic loss and entropy loss\n",
    "        advantage = trajectory['value_targets'] - trajectory['values']\n",
    "        actor_loss = - (trajectory['log_probs'] * advantage)\n",
    "        critic_loss = (advantage ** 2)\n",
    "        entropy = -trajectory['entropy']\n",
    "        policy_loss = (actor_loss +critic_loss * self.value_loss_coef + entropy * self.entropy_coef).mean()\n",
    "        \n",
    "        all_logs['policy_loss'].append(policy_loss)\n",
    "        all_logs['critic_loss'].append(critic_loss.mean())\n",
    "        all_logs['entropy'].append(entropy.mean())\n",
    "        all_logs['actor_loss'].append(actor_loss.mean())\n",
    "        # log all losses\n",
    "        write('losses', {\n",
    "            'policy loss': policy_loss,\n",
    "            'critic loss': critic_loss.mean(),\n",
    "            'entropy loss': entropy.mean()\n",
    "        })\n",
    "        \n",
    "        # additional logs\n",
    "        write('critic/advantage', advantage.mean())\n",
    "        write('critic/values', {\n",
    "            'value predictions': trajectory['values'].mean(),\n",
    "            'value targets':     trajectory['value_targets'].mean(),\n",
    "        })\n",
    "        \n",
    "        # return scalar loss\n",
    "        return policy_loss               \n",
    "\n",
    "    def train(self, runner):\n",
    "        # collect trajectory using runner\n",
    "        # compute loss and perform one step of gradient optimization\n",
    "        # do not forget to clip gradients\n",
    "        \n",
    "        trajectory = runner.get_next()\n",
    "        loss = self.loss(trajectory, write)\n",
    "        loss.backward()\n",
    "        self.optimizer.step()\n",
    "        grad_norm = clip_grad_norm_(self.policy.model.parameters(), self.max_grad_norm)\n",
    "        self.optimizer.zero_grad()\n",
    "        \n",
    "        # use runner.write to log scalar to tensorboard\n",
    "        runner.write('gradient norm', grad_norm)\n",
    "        all_logs['grad_norm'].append(grad_norm)"
   ]
  },
  {
   "cell_type": "markdown",
   "metadata": {},
   "source": [
    "Now you can train your model. For optimization we suggest you use RMSProp with learning rate 7e-4 (you can also linearly decay it to 0), smoothing constant (alpha in PyTorch) equal to 0.99 and epsilon equal to 1e-5.\n",
    "\n",
    "We recommend to train for at least 10 million environment steps across all batched environments (takes ~3 hours on a single GTX1080 with 8 CPU). It should be possible to achieve *average raw reward over last 100 episodes* (the average is taken over 100 last episodes in each environment in the batch) of about 600. **Your goal is to reach 500**.\n",
    "\n",
    "Notes:\n",
    "* if your reward is stuck at ~200 for more than 2M steps then probably there is a bug\n",
    "* if your gradient norm is >10 something probably went wrong\n",
    "* make sure your `entropy loss` is negative, your `critic loss` is positive\n",
    "* make sure you didn't forget `.detach` in losses where it's needed\n",
    "* `actor loss` should oscillate around zero or near it; do not expect loss to decrease in RL ;)\n",
    "* you can experiment with `nsteps` (\"rollout length\"); standard rollout length is 5 or 10. Note that this parameter influences how many algorithm iterations is required to train on 10M steps (or 40M frames --- we used frameskip in preprocessing)."
   ]
  },
  {
   "cell_type": "code",
   "execution_count": 96,
   "metadata": {},
   "outputs": [],
   "source": [
    "model = Agent(state_shape, n_actions)\n"
   ]
  },
  {
   "cell_type": "code",
   "execution_count": 97,
   "metadata": {},
   "outputs": [],
   "source": [
    "all_logs = {'policy_loss':[], 'critic_loss':[],'entropy':[], 'actor_loss':[], 'grad_norm':[]}"
   ]
  },
  {
   "cell_type": "code",
   "execution_count": 98,
   "metadata": {},
   "outputs": [],
   "source": [
    "policy = Policy(model)\n",
    "runner = EnvRunner(env, policy, nsteps=10, transforms=[ComputeValueTargets(policy),\n",
    "                                                      MergeTimeBatch()])\n",
    "\n",
    "optimizer = torch.optim.RMSprop(policy.model.parameters(), lr=7e-4, alpha=0.99, eps=1e-05, weight_decay=0, momentum=0, centered=False)\n",
    "#optimizer.load_state_dict(torch.load(\"A2C_optimizer\"))\n",
    "\n",
    "a2c = A2C(policy,optimizer)"
   ]
  },
  {
   "cell_type": "code",
   "execution_count": 99,
   "metadata": {},
   "outputs": [],
   "source": [
    "from torch.utils.tensorboard import SummaryWriter\n",
    "write = SummaryWriter"
   ]
  },
  {
   "cell_type": "code",
   "execution_count": 100,
   "metadata": {},
   "outputs": [],
   "source": [
    "%reload_ext tensorboard"
   ]
  },
  {
   "cell_type": "code",
   "execution_count": 101,
   "metadata": {
    "scrolled": false
   },
   "outputs": [
    {
     "data": {
      "image/png": "[encoded data removed]",
      "text/plain": [
       "<Figure size 1152x648 with 4 Axes>"
      ]
     },
     "metadata": {
      "needs_background": "light"
     },
     "output_type": "display_data"
    },
    {
     "name": "stderr",
     "output_type": "stream",
     "text": [
      "100%|████████████████████████████████████████████████████████████████████████████| 8000/8000 [3:11:37<00:00,  1.44s/it]\n"
     ]
    }
   ],
   "source": [
    "from tqdm import trange\n",
    "from IPython.display import clear_output\n",
    "import matplotlib.pyplot as plt\n",
    "\n",
    "n_epoch = 8000\n",
    "\n",
    "\n",
    "\n",
    "for i in trange(n_epoch):\n",
    "    a2c.train(runner)\n",
    "    \n",
    "    if i % 100 == 99:\n",
    "        clear_output(True)\n",
    "\n",
    "        plt.figure(figsize=[16, 9])\n",
    "\n",
    "        plt.subplot(2, 2, 1)\n",
    "        plt.title(\"policy loss\")\n",
    "        x = [all_logs['policy_loss'][i] for i in range(len(all_logs['policy_loss'])) if i%100==0]\n",
    "        plt.plot(x)\n",
    "        plt.grid()\n",
    "\n",
    "        plt.subplot(2, 2, 2)\n",
    "        plt.title(\"critic_loss\")\n",
    "        x = [all_logs['critic_loss'][i] for i in range(len(all_logs['policy_loss'])) if i%100==0]\n",
    "        plt.plot(x)\n",
    "        plt.grid()\n",
    "\n",
    "        plt.subplot(2, 2, 3)\n",
    "        plt.title(\"entropy\")\n",
    "        x = [all_logs['entropy'][i] for i in range(len(all_logs['policy_loss'])) if i%100==0]\n",
    "        plt.plot(x)\n",
    "        plt.grid()\n",
    "        \n",
    "        plt.subplot(2, 2, 4)\n",
    "        plt.title(\"actor_loss\")\n",
    "        x = [all_logs['actor_loss'][i] for i in range(len(all_logs['policy_loss'])) if i%100==0]\n",
    "        plt.plot(x)\n",
    "        plt.grid()\n",
    "        \n",
    "        plt.show()"
   ]
  },
  {
   "cell_type": "code",
   "execution_count": 102,
   "metadata": {},
   "outputs": [],
   "source": [
    "# save your model just in case \n",
    "torch.save(model.state_dict(), \"A2C_2\")\n",
    "torch.save(optimizer.state_dict(), \"A2C_optimizer_2\")"
   ]
  },
  {
   "cell_type": "code",
   "execution_count": 103,
   "metadata": {},
   "outputs": [],
   "source": [
    "env.close()"
   ]
  },
  {
   "cell_type": "markdown",
   "metadata": {},
   "source": [
    "## Evaluation"
   ]
  },
  {
   "cell_type": "code",
   "execution_count": 104,
   "metadata": {},
   "outputs": [],
   "source": [
    "env = nature_dqn_env(\"SpaceInvadersNoFrameskip-v4\", nenvs=None, \n",
    "                     clip_reward=False, summaries=False, episodic_life=False)"
   ]
  },
  {
   "cell_type": "code",
   "execution_count": 105,
   "metadata": {},
   "outputs": [],
   "source": [
    "def evaluate(env, policy, n_games=1, t_max=10000):\n",
    "    '''\n",
    "    Plays n_games and returns rewards\n",
    "    '''\n",
    "    rewards = []\n",
    "    \n",
    "    for _ in range(n_games):\n",
    "        s = env.reset()\n",
    "        \n",
    "        R = 0\n",
    "        for _ in range(t_max):\n",
    "            action = policy.act(np.array([s]))[\"actions\"][0]\n",
    "            \n",
    "            s, r, done, _ = env.step(action)\n",
    "            \n",
    "            R += r\n",
    "            if done:\n",
    "                break\n",
    "\n",
    "        rewards.append(R)\n",
    "    return np.array(rewards)"
   ]
  },
  {
   "cell_type": "code",
   "execution_count": 106,
   "metadata": {},
   "outputs": [
    {
     "name": "stdout",
     "output_type": "stream",
     "text": [
      "Your score: 270.0\n"
     ]
    },
    {
     "ename": "AssertionError",
     "evalue": "Needs more training?",
     "output_type": "error",
     "traceback": [
      "\u001b[1;31m---------------------------------------------------------------------------\u001b[0m",
      "\u001b[1;31mAssertionError\u001b[0m                            Traceback (most recent call last)",
      "\u001b[1;32m<ipython-input-106-7282d333aedd>\u001b[0m in \u001b[0;36m<module>\u001b[1;34m\u001b[0m\n\u001b[0;32m      4\u001b[0m \u001b[0mprint\u001b[0m\u001b[1;33m(\u001b[0m\u001b[1;34mf\"Your score: {score}\"\u001b[0m\u001b[1;33m)\u001b[0m\u001b[1;33m\u001b[0m\u001b[1;33m\u001b[0m\u001b[0m\n\u001b[0;32m      5\u001b[0m \u001b[1;33m\u001b[0m\u001b[0m\n\u001b[1;32m----> 6\u001b[1;33m \u001b[1;32massert\u001b[0m \u001b[0mscore\u001b[0m \u001b[1;33m>=\u001b[0m \u001b[1;36m500\u001b[0m\u001b[1;33m,\u001b[0m \u001b[1;34m\"Needs more training?\"\u001b[0m\u001b[1;33m\u001b[0m\u001b[1;33m\u001b[0m\u001b[0m\n\u001b[0m\u001b[0;32m      7\u001b[0m \u001b[0mprint\u001b[0m\u001b[1;33m(\u001b[0m\u001b[1;34m\"Well done!\"\u001b[0m\u001b[1;33m)\u001b[0m\u001b[1;33m\u001b[0m\u001b[1;33m\u001b[0m\u001b[0m\n",
      "\u001b[1;31mAssertionError\u001b[0m: Needs more training?"
     ]
    }
   ],
   "source": [
    "# evaluation will take some time!\n",
    "sessions = evaluate(env, policy, n_games=30)\n",
    "score = sessions.mean()\n",
    "print(f\"Your score: {score}\")\n",
    "\n",
    "assert score >= 500, \"Needs more training?\"\n",
    "print(\"Well done!\")"
   ]
  },
  {
   "cell_type": "code",
   "execution_count": 107,
   "metadata": {},
   "outputs": [],
   "source": [
    "env.close()\n"
   ]
  },
  {
   "cell_type": "markdown",
   "metadata": {},
   "source": [
    "В итоге училось очень долго, а результата хорошего не вышло"
   ]
  },
  {
   "cell_type": "markdown",
   "metadata": {},
   "source": [
    "## Record"
   ]
  },
  {
   "cell_type": "code",
   "execution_count": 111,
   "metadata": {},
   "outputs": [
    {
     "data": {
      "text/plain": [
       "<All keys matched successfully>"
      ]
     },
     "execution_count": 111,
     "metadata": {},
     "output_type": "execute_result"
    }
   ],
   "source": [
    "state_shape = obs.shape\n",
    "model = Agent(state_shape, n_actions)\n",
    "model.load_state_dict(torch.load(\"A2C_2\"))"
   ]
  },
  {
   "cell_type": "code",
   "execution_count": 112,
   "metadata": {},
   "outputs": [],
   "source": [
    "env_monitor = nature_dqn_env(\"SpaceInvadersNoFrameskip-v4\", nenvs=None, monitor=True,\n",
    "                             clip_reward=False, summaries=False, episodic_life=False)"
   ]
  },
  {
   "cell_type": "code",
   "execution_count": 113,
   "metadata": {
    "scrolled": true
   },
   "outputs": [],
   "source": [
    "# record sessions\n",
    "sessions = evaluate(env_monitor, policy, n_games=3)"
   ]
  },
  {
   "cell_type": "code",
   "execution_count": 114,
   "metadata": {},
   "outputs": [
    {
     "data": {
      "text/plain": [
       "array([270., 270., 270.])"
      ]
     },
     "execution_count": 114,
     "metadata": {},
     "output_type": "execute_result"
    }
   ],
   "source": [
    "# rewards for recorded games\n",
    "sessions"
   ]
  },
  {
   "cell_type": "code",
   "execution_count": 115,
   "metadata": {},
   "outputs": [],
   "source": [
    "env_monitor.close()"
   ]
  },
  {
   "cell_type": "markdown",
   "metadata": {},
   "source": [
    "Судя по видео, агент вообще не научился ездить влево. Он все время доезжает до максимума вправо и там и стоит. "
   ]
  },
  {
   "cell_type": "code",
   "execution_count": null,
   "metadata": {},
   "outputs": [],
   "source": []
  }
 ],
 "metadata": {
  "kernelspec": {
   "display_name": "Python 3",
   "language": "python",
   "name": "python3"
  },
  "language_info": {
   "codemirror_mode": {
    "name": "ipython",
    "version": 3
   },
   "file_extension": ".py",
   "mimetype": "text/x-python",
   "name": "python",
   "nbconvert_exporter": "python",
   "pygments_lexer": "ipython3",
   "version": "3.8.5"
  }
 },
 "nbformat": 4,
 "nbformat_minor": 2
}
